{
  "cells": [
    {
      "cell_type": "markdown",
      "metadata": {
        "id": "view-in-github",
        "colab_type": "text"
      },
      "source": [
        "<a href=\"https://colab.research.google.com/github/samyukthaananthan02/64060_sananth1/blob/main/Assignment_2.ipynb\" target=\"_parent\"><img src=\"https://colab.research.google.com/assets/colab-badge.svg\" alt=\"Open In Colab\"/></a>"
      ]
    },
    {
      "cell_type": "code",
      "execution_count": null,
      "id": "0ed4b517",
      "metadata": {
        "colab": {
          "base_uri": "https://localhost:8080/"
        },
        "id": "0ed4b517",
        "outputId": "8134d053-2661-4cf2-a5fa-bc2a1344e92d"
      },
      "outputs": [
        {
          "output_type": "stream",
          "name": "stdout",
          "text": [
            "Downloading data from https://storage.googleapis.com/tensorflow/tf-keras-datasets/imdb.npz\n",
            "17464789/17464789 [==============================] - 0s 0us/step\n"
          ]
        }
      ],
      "source": [
        "from tensorflow.keras.datasets import imdb\n",
        "(train_data, train_labels), (test_data, test_labels) = imdb.load_data(\n",
        "    num_words=10000)"
      ]
    },
    {
      "cell_type": "code",
      "execution_count": null,
      "id": "44d40145",
      "metadata": {
        "colab": {
          "base_uri": "https://localhost:8080/"
        },
        "id": "44d40145",
        "outputId": "2b72fac6-6276-4a70-9837-e0aa4e918af2"
      },
      "outputs": [
        {
          "output_type": "execute_result",
          "data": {
            "text/plain": [
              "1"
            ]
          },
          "metadata": {},
          "execution_count": 2
        }
      ],
      "source": [
        "train_labels[0]"
      ]
    },
    {
      "cell_type": "code",
      "execution_count": null,
      "id": "d0b5ef8f",
      "metadata": {
        "colab": {
          "base_uri": "https://localhost:8080/"
        },
        "id": "d0b5ef8f",
        "outputId": "706c660d-3a73-4330-9abf-516132d7dce9"
      },
      "outputs": [
        {
          "output_type": "execute_result",
          "data": {
            "text/plain": [
              "9999"
            ]
          },
          "metadata": {},
          "execution_count": 3
        }
      ],
      "source": [
        "max([max(sequence) for sequence in train_data])"
      ]
    },
    {
      "cell_type": "code",
      "execution_count": null,
      "id": "cde664d8",
      "metadata": {
        "colab": {
          "base_uri": "https://localhost:8080/"
        },
        "id": "cde664d8",
        "outputId": "5e1a2fa4-30c9-4938-bd93-95feac420c0d"
      },
      "outputs": [
        {
          "output_type": "stream",
          "name": "stdout",
          "text": [
            "Downloading data from https://storage.googleapis.com/tensorflow/tf-keras-datasets/imdb_word_index.json\n",
            "1641221/1641221 [==============================] - 0s 0us/step\n"
          ]
        }
      ],
      "source": [
        "word_index = imdb.get_word_index()\n",
        "reverse_word_index = dict(\n",
        "    [(value, key) for (key, value) in word_index.items()])\n",
        "decoded_review = \" \".join(\n",
        "    [reverse_word_index.get(i - 3, \"?\") for i in train_data[0]])"
      ]
    },
    {
      "cell_type": "code",
      "execution_count": null,
      "id": "e4240138",
      "metadata": {
        "id": "e4240138"
      },
      "outputs": [],
      "source": [
        "import numpy as np\n",
        "def vectorize_sequences(sequences, dimension=10000):\n",
        "    results = np.zeros((len(sequences), dimension))\n",
        "    for i, sequence in enumerate(sequences):\n",
        "        for j in sequence:\n",
        "            results[i, j] = 1.\n",
        "    return results\n",
        "x_train = vectorize_sequences(train_data)\n",
        "x_test = vectorize_sequences(test_data)"
      ]
    },
    {
      "cell_type": "code",
      "execution_count": null,
      "id": "f5b78735",
      "metadata": {
        "colab": {
          "base_uri": "https://localhost:8080/"
        },
        "id": "f5b78735",
        "outputId": "edd06c77-b983-4a1d-c580-f0c16d2e0c80"
      },
      "outputs": [
        {
          "output_type": "execute_result",
          "data": {
            "text/plain": [
              "array([0., 1., 1., ..., 0., 0., 0.])"
            ]
          },
          "metadata": {},
          "execution_count": 6
        }
      ],
      "source": [
        "x_train[0]"
      ]
    },
    {
      "cell_type": "code",
      "execution_count": null,
      "id": "1e3aac2e",
      "metadata": {
        "id": "1e3aac2e"
      },
      "outputs": [],
      "source": [
        "y_train = np.asarray(train_labels).astype(\"float32\")\n",
        "y_test = np.asarray(test_labels).astype(\"float32\")"
      ]
    },
    {
      "cell_type": "code",
      "execution_count": null,
      "id": "dffe8ff8",
      "metadata": {
        "id": "dffe8ff8"
      },
      "outputs": [],
      "source": [
        "from tensorflow import keras\n",
        "from tensorflow.keras import layers\n",
        "\n",
        "model = keras.Sequential([\n",
        "    layers.Dense(32, activation=\"tanh\"),\n",
        "    layers.Dense(32, activation=\"tanh\"),\n",
        "    layers.Dense(32, activation=\"tanh\"),\n",
        "    layers.Dense(1, activation=\"sigmoid\")\n",
        "])"
      ]
    },
    {
      "cell_type": "code",
      "execution_count": null,
      "id": "2a208143",
      "metadata": {
        "id": "2a208143"
      },
      "outputs": [],
      "source": [
        "model.compile(optimizer=\"adam\",\n",
        "              loss=\"mean_squared_error\",\n",
        "              metrics=[\"accuracy\"])"
      ]
    },
    {
      "cell_type": "markdown",
      "id": "c6854f06",
      "metadata": {
        "id": "c6854f06"
      },
      "source": [
        "### Validating the approach"
      ]
    },
    {
      "cell_type": "code",
      "execution_count": null,
      "id": "8b490187",
      "metadata": {
        "id": "8b490187"
      },
      "outputs": [],
      "source": [
        "x_val = x_train[:10000]\n",
        "partial_x_train = x_train[10000:]\n",
        "y_val = y_train[:10000]\n",
        "partial_y_train = y_train[10000:]"
      ]
    },
    {
      "cell_type": "code",
      "execution_count": null,
      "id": "edb1f363",
      "metadata": {
        "colab": {
          "base_uri": "https://localhost:8080/"
        },
        "id": "edb1f363",
        "outputId": "31ca2c6a-f754-4c46-8533-5cce187cc9ba"
      },
      "outputs": [
        {
          "output_type": "stream",
          "name": "stdout",
          "text": [
            "Epoch 1/20\n",
            "59/59 [==============================] - 4s 58ms/step - loss: 0.1226 - accuracy: 0.8368 - val_loss: 0.0857 - val_accuracy: 0.8841\n",
            "Epoch 2/20\n",
            "59/59 [==============================] - 2s 33ms/step - loss: 0.0484 - accuracy: 0.9397 - val_loss: 0.0900 - val_accuracy: 0.8799\n",
            "Epoch 3/20\n",
            "59/59 [==============================] - 2s 38ms/step - loss: 0.0304 - accuracy: 0.9658 - val_loss: 0.0980 - val_accuracy: 0.8766\n",
            "Epoch 4/20\n",
            "59/59 [==============================] - 2s 42ms/step - loss: 0.0229 - accuracy: 0.9747 - val_loss: 0.1051 - val_accuracy: 0.8742\n",
            "Epoch 5/20\n",
            "59/59 [==============================] - 2s 29ms/step - loss: 0.0188 - accuracy: 0.9793 - val_loss: 0.1108 - val_accuracy: 0.8687\n",
            "Epoch 6/20\n",
            "59/59 [==============================] - 2s 29ms/step - loss: 0.0188 - accuracy: 0.9785 - val_loss: 0.1136 - val_accuracy: 0.8683\n",
            "Epoch 7/20\n",
            "59/59 [==============================] - 2s 30ms/step - loss: 0.0186 - accuracy: 0.9793 - val_loss: 0.1158 - val_accuracy: 0.8676\n",
            "Epoch 8/20\n",
            "59/59 [==============================] - 2s 33ms/step - loss: 0.0166 - accuracy: 0.9818 - val_loss: 0.1189 - val_accuracy: 0.8655\n",
            "Epoch 9/20\n",
            "59/59 [==============================] - 2s 33ms/step - loss: 0.0160 - accuracy: 0.9825 - val_loss: 0.1217 - val_accuracy: 0.8628\n",
            "Epoch 10/20\n",
            "59/59 [==============================] - 3s 53ms/step - loss: 0.0150 - accuracy: 0.9834 - val_loss: 0.1264 - val_accuracy: 0.8584\n",
            "Epoch 11/20\n",
            "59/59 [==============================] - 2s 29ms/step - loss: 0.0135 - accuracy: 0.9853 - val_loss: 0.1228 - val_accuracy: 0.8652\n",
            "Epoch 12/20\n",
            "59/59 [==============================] - 2s 33ms/step - loss: 0.0136 - accuracy: 0.9852 - val_loss: 0.1227 - val_accuracy: 0.8649\n",
            "Epoch 13/20\n",
            "59/59 [==============================] - 2s 33ms/step - loss: 0.0120 - accuracy: 0.9873 - val_loss: 0.1238 - val_accuracy: 0.8650\n",
            "Epoch 14/20\n",
            "59/59 [==============================] - 2s 30ms/step - loss: 0.0117 - accuracy: 0.9879 - val_loss: 0.1235 - val_accuracy: 0.8645\n",
            "Epoch 15/20\n",
            "59/59 [==============================] - 2s 33ms/step - loss: 0.0117 - accuracy: 0.9877 - val_loss: 0.1270 - val_accuracy: 0.8628\n",
            "Epoch 16/20\n",
            "59/59 [==============================] - 2s 41ms/step - loss: 0.0115 - accuracy: 0.9881 - val_loss: 0.1263 - val_accuracy: 0.8641\n",
            "Epoch 17/20\n",
            "59/59 [==============================] - 2s 37ms/step - loss: 0.0113 - accuracy: 0.9882 - val_loss: 0.1279 - val_accuracy: 0.8628\n",
            "Epoch 18/20\n",
            "59/59 [==============================] - 2s 29ms/step - loss: 0.0126 - accuracy: 0.9866 - val_loss: 0.1265 - val_accuracy: 0.8645\n",
            "Epoch 19/20\n",
            "59/59 [==============================] - 2s 33ms/step - loss: 0.0136 - accuracy: 0.9855 - val_loss: 0.1293 - val_accuracy: 0.8603\n",
            "Epoch 20/20\n",
            "59/59 [==============================] - 2s 33ms/step - loss: 0.0139 - accuracy: 0.9853 - val_loss: 0.1293 - val_accuracy: 0.8602\n"
          ]
        }
      ],
      "source": [
        "## model planned to train with 20 epoch with batch size of 256\n",
        "\n",
        "history = model.fit(partial_x_train,\n",
        "                    partial_y_train,\n",
        "                    epochs=20,\n",
        "                    batch_size=256,\n",
        "                    validation_data=(x_val, y_val))"
      ]
    },
    {
      "cell_type": "code",
      "execution_count": null,
      "id": "52cb1367",
      "metadata": {
        "colab": {
          "base_uri": "https://localhost:8080/"
        },
        "id": "52cb1367",
        "outputId": "f1580130-d14b-4a6c-89e6-ce2278219587"
      },
      "outputs": [
        {
          "output_type": "execute_result",
          "data": {
            "text/plain": [
              "dict_keys(['loss', 'accuracy', 'val_loss', 'val_accuracy'])"
            ]
          },
          "metadata": {},
          "execution_count": 12
        }
      ],
      "source": [
        "history_dict = history.history\n",
        "history_dict.keys()"
      ]
    },
    {
      "cell_type": "markdown",
      "id": "97761377",
      "metadata": {
        "id": "97761377"
      },
      "source": [
        "### Plotting the train & Validation loss"
      ]
    },
    {
      "cell_type": "code",
      "execution_count": null,
      "id": "7947e3a4",
      "metadata": {
        "colab": {
          "base_uri": "https://localhost:8080/",
          "height": 472
        },
        "id": "7947e3a4",
        "outputId": "998db5e2-fc6a-4d78-9fef-a23aa8e16b73"
      },
      "outputs": [
        {
          "output_type": "display_data",
          "data": {
            "text/plain": [
              "<Figure size 640x480 with 1 Axes>"
            ],
            "image/png": "[encoded data removed]"
          },
          "metadata": {}
        }
      ],
      "source": [
        "import matplotlib.pyplot as plt\n",
        "history_dict = history.history\n",
        "loss_values = history_dict[\"loss\"]\n",
        "val_loss_values = history_dict[\"val_loss\"]\n",
        "epochs = range(1, len(loss_values) + 1)\n",
        "plt.plot(epochs, loss_values, \"bo\", label=\"Training loss\")\n",
        "plt.plot(epochs, val_loss_values, \"b\", label=\"Validation loss\")\n",
        "plt.title(\"Training and validation loss\")\n",
        "plt.xlabel(\"Epochs\")\n",
        "plt.ylabel(\"Loss\")\n",
        "plt.legend()\n",
        "plt.show()"
      ]
    },
    {
      "cell_type": "markdown",
      "id": "81b8bca0",
      "metadata": {
        "id": "81b8bca0"
      },
      "source": [
        "**Plotting the training and validation accuracy**"
      ]
    },
    {
      "cell_type": "code",
      "execution_count": null,
      "id": "f8cf4f21",
      "metadata": {
        "colab": {
          "base_uri": "https://localhost:8080/",
          "height": 472
        },
        "id": "f8cf4f21",
        "outputId": "bf760ac3-f292-40f5-a22b-fa8e62ff6503"
      },
      "outputs": [
        {
          "output_type": "display_data",
          "data": {
            "text/plain": [
              "<Figure size 640x480 with 1 Axes>"
            ],
            "image/png": "[encoded data removed]"
          },
          "metadata": {}
        }
      ],
      "source": [
        "plt.clf()\n",
        "acc = history_dict[\"accuracy\"]\n",
        "val_acc = history_dict[\"val_accuracy\"]\n",
        "plt.plot(epochs, acc, \"bo\", label=\"Training acc\")\n",
        "plt.plot(epochs, val_acc, \"b\", label=\"Validation acc\")\n",
        "plt.title(\"Training and validation accuracy\")\n",
        "plt.xlabel(\"Epochs\")\n",
        "plt.ylabel(\"Accuracy\")\n",
        "plt.legend()\n",
        "plt.show()"
      ]
    },
    {
      "cell_type": "code",
      "execution_count": null,
      "id": "06ad0219",
      "metadata": {
        "colab": {
          "base_uri": "https://localhost:8080/"
        },
        "id": "06ad0219",
        "outputId": "0098cdbb-3c4f-45f7-c611-2ca35f29bb88"
      },
      "outputs": [
        {
          "output_type": "stream",
          "name": "stdout",
          "text": [
            "782/782 [==============================] - 2s 3ms/step - loss: 0.1475 - accuracy: 0.8412\n"
          ]
        }
      ],
      "source": [
        "results = model.evaluate(x_test, y_test)"
      ]
    },
    {
      "cell_type": "code",
      "execution_count": null,
      "id": "22190590",
      "metadata": {
        "colab": {
          "base_uri": "https://localhost:8080/"
        },
        "id": "22190590",
        "outputId": "5cfac829-b614-410c-97b2-64bab4ae5a7e"
      },
      "outputs": [
        {
          "output_type": "execute_result",
          "data": {
            "text/plain": [
              "[0.14749561250209808, 0.8411999940872192]"
            ]
          },
          "metadata": {},
          "execution_count": 16
        }
      ],
      "source": [
        "results"
      ]
    },
    {
      "cell_type": "markdown",
      "id": "b7abf977",
      "metadata": {
        "id": "b7abf977"
      },
      "source": [
        "#### Combining all code together along with dropout layer"
      ]
    },
    {
      "cell_type": "code",
      "source": [
        "## Libraries required for setting up an environment\n",
        "\n",
        "from tensorflow import keras\n",
        "from tensorflow.keras import layers\n",
        "from keras.layers import Dense\n",
        "from keras.layers import Dropout\n",
        "from tensorflow.keras import regularizers"
      ],
      "metadata": {
        "id": "n6_JpJ9euiIt"
      },
      "id": "n6_JpJ9euiIt",
      "execution_count": null,
      "outputs": []
    },
    {
      "cell_type": "code",
      "source": [
        "# Neural network implementation using 3 layered approach with a single dropout layer\n",
        "model = keras.Sequential()\n",
        "model.add(Dense(32,activation='tanh'))\n",
        "model.add(Dropout(0.5))\n",
        "#kernel_regularizer=regularizers.L1(0.01), activity_regularizer=regularizers.L2(0.01))\n",
        "model.add(Dense(32,activation='tanh',kernel_regularizer=regularizers.L1(0.01), activity_regularizer=regularizers.L2(0.01)))\n",
        "model.add(Dropout(0.5))\n",
        "model.add(Dense(32,activation='tanh'))\n",
        "model.add(Dense(1, activation='sigmoid'))"
      ],
      "metadata": {
        "id": "HMO4QuCxuj0O"
      },
      "id": "HMO4QuCxuj0O",
      "execution_count": null,
      "outputs": []
    },
    {
      "cell_type": "code",
      "source": [
        "# Here for compilation we used optimizer \"adagrad\", mean squared error loss and accuracy metrics\n",
        "model.compile(optimizer=\"adam\",\n",
        "              loss=\"mean_squared_error\",\n",
        "              metrics=[\"accuracy\"])"
      ],
      "metadata": {
        "id": "59SICKpcup2A"
      },
      "id": "59SICKpcup2A",
      "execution_count": null,
      "outputs": []
    },
    {
      "cell_type": "code",
      "source": [
        "## splitting the data\n",
        "x_val = x_train[:10000]\n",
        "partial_x_train = x_train[10000:]\n",
        "y_val = y_train[:10000]\n",
        "partial_y_train = y_train[10000:]"
      ],
      "metadata": {
        "id": "g9Pl7Kh1uqoI"
      },
      "id": "g9Pl7Kh1uqoI",
      "execution_count": null,
      "outputs": []
    },
    {
      "cell_type": "code",
      "source": [
        "# Train a neural network\n",
        "history = model.fit(partial_x_train,\n",
        "                    partial_y_train,\n",
        "                    epochs=20,\n",
        "                    batch_size=256,\n",
        "                    validation_data=(x_val, y_val))"
      ],
      "metadata": {
        "colab": {
          "base_uri": "https://localhost:8080/"
        },
        "id": "6WsH4FGPuuVI",
        "outputId": "67fb22e6-f5a0-451b-c022-85c2baf83d73"
      },
      "id": "6WsH4FGPuuVI",
      "execution_count": null,
      "outputs": [
        {
          "output_type": "stream",
          "name": "stdout",
          "text": [
            "Epoch 1/20\n",
            "59/59 [==============================] - 5s 68ms/step - loss: 1.4999 - accuracy: 0.7751 - val_loss: 1.1590 - val_accuracy: 0.8816\n",
            "Epoch 2/20\n",
            "59/59 [==============================] - 2s 33ms/step - loss: 0.9297 - accuracy: 0.9015 - val_loss: 0.7133 - val_accuracy: 0.8878\n",
            "Epoch 3/20\n",
            "59/59 [==============================] - 2s 34ms/step - loss: 0.5341 - accuracy: 0.9317 - val_loss: 0.4019 - val_accuracy: 0.8861\n",
            "Epoch 4/20\n",
            "59/59 [==============================] - 2s 34ms/step - loss: 0.2682 - accuracy: 0.9442 - val_loss: 0.2035 - val_accuracy: 0.8871\n",
            "Epoch 5/20\n",
            "59/59 [==============================] - 2s 35ms/step - loss: 0.1262 - accuracy: 0.9531 - val_loss: 0.1300 - val_accuracy: 0.8867\n",
            "Epoch 6/20\n",
            "59/59 [==============================] - 2s 40ms/step - loss: 0.0848 - accuracy: 0.9629 - val_loss: 0.1167 - val_accuracy: 0.8879\n",
            "Epoch 7/20\n",
            "59/59 [==============================] - 2s 42ms/step - loss: 0.0736 - accuracy: 0.9669 - val_loss: 0.1145 - val_accuracy: 0.8864\n",
            "Epoch 8/20\n",
            "59/59 [==============================] - 2s 34ms/step - loss: 0.0632 - accuracy: 0.9716 - val_loss: 0.1124 - val_accuracy: 0.8824\n",
            "Epoch 9/20\n",
            "59/59 [==============================] - 2s 34ms/step - loss: 0.0568 - accuracy: 0.9761 - val_loss: 0.1108 - val_accuracy: 0.8828\n",
            "Epoch 10/20\n",
            "59/59 [==============================] - 2s 33ms/step - loss: 0.0512 - accuracy: 0.9793 - val_loss: 0.1117 - val_accuracy: 0.8815\n",
            "Epoch 11/20\n",
            "59/59 [==============================] - 2s 34ms/step - loss: 0.0461 - accuracy: 0.9843 - val_loss: 0.1109 - val_accuracy: 0.8798\n",
            "Epoch 12/20\n",
            "59/59 [==============================] - 2s 37ms/step - loss: 0.0425 - accuracy: 0.9845 - val_loss: 0.1098 - val_accuracy: 0.8806\n",
            "Epoch 13/20\n",
            "59/59 [==============================] - 3s 44ms/step - loss: 0.0393 - accuracy: 0.9883 - val_loss: 0.1116 - val_accuracy: 0.8794\n",
            "Epoch 14/20\n",
            "59/59 [==============================] - 2s 34ms/step - loss: 0.0362 - accuracy: 0.9894 - val_loss: 0.1123 - val_accuracy: 0.8791\n",
            "Epoch 15/20\n",
            "59/59 [==============================] - 2s 33ms/step - loss: 0.0342 - accuracy: 0.9899 - val_loss: 0.1126 - val_accuracy: 0.8772\n",
            "Epoch 16/20\n",
            "59/59 [==============================] - 2s 30ms/step - loss: 0.0321 - accuracy: 0.9910 - val_loss: 0.1133 - val_accuracy: 0.8753\n",
            "Epoch 17/20\n",
            "59/59 [==============================] - 2s 33ms/step - loss: 0.0300 - accuracy: 0.9924 - val_loss: 0.1128 - val_accuracy: 0.8774\n",
            "Epoch 18/20\n",
            "59/59 [==============================] - 2s 34ms/step - loss: 0.0287 - accuracy: 0.9924 - val_loss: 0.1137 - val_accuracy: 0.8761\n",
            "Epoch 19/20\n",
            "59/59 [==============================] - 3s 43ms/step - loss: 0.0273 - accuracy: 0.9943 - val_loss: 0.1134 - val_accuracy: 0.8757\n",
            "Epoch 20/20\n",
            "59/59 [==============================] - 2s 34ms/step - loss: 0.0260 - accuracy: 0.9937 - val_loss: 0.1145 - val_accuracy: 0.8742\n"
          ]
        }
      ]
    },
    {
      "cell_type": "code",
      "source": [
        "# plotting the Training and Validation accuracy\n",
        "plt.clf()\n",
        "acc = history_dict[\"accuracy\"]\n",
        "val_acc = history_dict[\"val_accuracy\"]\n",
        "plt.plot(epochs, acc, \"bo\", label=\"Training acc\")\n",
        "plt.plot(epochs, val_acc, \"b\", label=\"Validation acc\")\n",
        "plt.title(\"Training and validation accuracy\")\n",
        "plt.xlabel(\"Epochs\")\n",
        "plt.ylabel(\"Accuracy\")\n",
        "plt.legend()\n",
        "plt.show()"
      ],
      "metadata": {
        "colab": {
          "base_uri": "https://localhost:8080/",
          "height": 472
        },
        "id": "6j3PgA2Hu0-9",
        "outputId": "ce7cc638-d768-4ff8-ad0d-ab9c72d8223d"
      },
      "id": "6j3PgA2Hu0-9",
      "execution_count": null,
      "outputs": [
        {
          "output_type": "display_data",
          "data": {
            "text/plain": [
              "<Figure size 640x480 with 1 Axes>"
            ],
            "image/png": "[encoded data removed]"
          },
          "metadata": {}
        }
      ]
    },
    {
      "cell_type": "code",
      "source": [
        "# Evaluating the results\n",
        "results = model.evaluate(x_test, y_test)\n",
        "results\n"
      ],
      "metadata": {
        "colab": {
          "base_uri": "https://localhost:8080/"
        },
        "id": "mQ-hUaAPu5w_",
        "outputId": "7e1f353c-634b-4ade-fbe3-1d488d45546b"
      },
      "id": "mQ-hUaAPu5w_",
      "execution_count": null,
      "outputs": [
        {
          "output_type": "stream",
          "name": "stdout",
          "text": [
            "782/782 [==============================] - 2s 3ms/step - loss: 0.1243 - accuracy: 0.8618\n"
          ]
        },
        {
          "output_type": "execute_result",
          "data": {
            "text/plain": [
              "[0.12426195293664932, 0.8618000149726868]"
            ]
          },
          "metadata": {},
          "execution_count": 23
        }
      ]
    }
  ],
  "metadata": {
    "kernelspec": {
      "display_name": "Python 3 (ipykernel)",
      "language": "python",
      "name": "python3"
    },
    "language_info": {
      "codemirror_mode": {
        "name": "ipython",
        "version": 3
      },
      "file_extension": ".py",
      "mimetype": "text/x-python",
      "name": "python",
      "nbconvert_exporter": "python",
      "pygments_lexer": "ipython3",
      "version": "3.9.12"
    },
    "colab": {
      "provenance": [],
      "include_colab_link": true
    }
  },
  "nbformat": 4,
  "nbformat_minor": 5
}